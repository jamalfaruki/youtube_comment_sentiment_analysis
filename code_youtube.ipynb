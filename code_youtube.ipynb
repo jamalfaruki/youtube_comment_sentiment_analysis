{
 "cells": [
  {
   "cell_type": "code",
   "execution_count": 13,
   "id": "c6ad1809-ad66-4dcd-8af2-bc4ae310ab85",
   "metadata": {},
   "outputs": [],
   "source": [
    "import pandas as pd\n",
    "\n",
    "# 1) load the file (adjust filename and separator if needed)\n",
    "df = pd.read_csv(\"youtoxic_english_1000.csv\", sep=\",\")  \n",
    "\n",
    "# 2) identify the text column and the other label columns\n",
    "text_col = \"Text\"\n",
    "exclude = [\"CommentId\", \"VideoId\", text_col]\n",
    "# all columns that are candidate toxicity flags:\n",
    "\n",
    "tox_cols = [c for c in df.columns if c not in exclude]\n",
    "\n",
    "# 3) convert each toxicity cell to a boolean (True if it indicates toxicity)\n",
    "# This works for booleans and for strings like \"TRUE\"/\"FALSE\" (case-insensitive).\n",
    "tox_bool = df[tox_cols].applymap(lambda x: str(x).strip().upper() == \"TRUE\")\n",
    "\n",
    "# 4) create the single label: 1 if any toxicity flag is True, else 0\n",
    "df[\"label\"] = tox_bool.any(axis=1).astype(int)\n",
    "\n",
    "# 5) keep only text and label columns\n",
    "out = df[[text_col, \"label\"]]\n",
    "\n",
    "# 6) save to new CSV\n",
    "out.to_csv(\"youtube_comment.csv\", index=False)\n"
   ]
  },
  {
   "cell_type": "code",
   "execution_count": 24,
   "id": "a5fa399c-fa1f-4d89-b0fa-af7bdd42328e",
   "metadata": {},
   "outputs": [
    {
     "name": "stdout",
     "output_type": "stream",
     "text": [
      "                                                Text  label\n",
      "0  If only people would just take a step back and...      0\n",
      "1  Law enforcement is not trained to shoot to app...      1\n"
     ]
    }
   ],
   "source": [
    "data=pd.read_csv(\"youtube_comment.csv\")\n",
    "print(data.head(2))"
   ]
  },
  {
   "cell_type": "markdown",
   "id": "7bf51228-2224-49c5-aecb-449198d17534",
   "metadata": {},
   "source": [
    "*code implementation*"
   ]
  },
  {
   "cell_type": "code",
   "execution_count": 25,
   "id": "ab01bdab-5bf4-4b6f-8677-e01c698be041",
   "metadata": {},
   "outputs": [
    {
     "name": "stdout",
     "output_type": "stream",
     "text": [
      "Original shape: (1000, 2)\n",
      "Original class counts:\n",
      " label\n",
      "0    538\n",
      "1    462\n",
      "Name: count, dtype: int64\n",
      "\n",
      "Balanced class counts:\n",
      " label\n",
      "1    538\n",
      "0    538\n",
      "Name: count, dtype: int64\n",
      "\n",
      "--- Sample Predictions ---\n",
      "I hate this video -> Non-Hate\n",
      "Great content, loved it! -> Non-Hate\n",
      "This creator is stupid -> Hate Speech\n",
      "Such an inspiring message, thank you! -> Non-Hate\n",
      "\n",
      "Accuracy: 0.8055555555555556\n",
      "\n",
      "Classification Report:\n",
      "               precision    recall  f1-score   support\n",
      "\n",
      "    Non-Hate       0.83      0.77      0.80       108\n",
      " Hate Speech       0.78      0.84      0.81       108\n",
      "\n",
      "    accuracy                           0.81       216\n",
      "   macro avg       0.81      0.81      0.81       216\n",
      "weighted avg       0.81      0.81      0.81       216\n",
      "\n"
     ]
    },
    {
     "data": {
      "image/png": "[encoded data removed]",
      "text/plain": [
       "<Figure size 600x400 with 2 Axes>"
      ]
     },
     "metadata": {},
     "output_type": "display_data"
    }
   ],
   "source": [
    "import pandas as pd\n",
    "from sklearn.feature_extraction.text import TfidfVectorizer\n",
    "from sklearn.model_selection import train_test_split\n",
    "from sklearn.linear_model import LogisticRegression\n",
    "from sklearn.metrics import classification_report, accuracy_score, confusion_matrix\n",
    "from sklearn.utils import resample\n",
    "import seaborn as sns\n",
    "import matplotlib.pyplot as plt\n",
    "\n",
    "# =======================\n",
    "# 1. Load Dataset\n",
    "# =======================\n",
    "df = pd.read_csv(\"youtube_comment.csv\")\n",
    "\n",
    "print(\"Original shape:\", df.shape)\n",
    "print(\"Original class counts:\\n\", df[\"label\"].value_counts())\n",
    "\n",
    "# =======================\n",
    "# 2. Balance Dataset (Upsampling)\n",
    "# =======================\n",
    "df_majority = df[df[\"label\"] == 0]\n",
    "df_minority = df[df[\"label\"] == 1]\n",
    "\n",
    "df_minority_upsampled = resample(\n",
    "    df_minority,\n",
    "    replace=True,                 # sample with replacement\n",
    "    n_samples=len(df_majority),   # match majority class\n",
    "    random_state=42\n",
    ")\n",
    "\n",
    "df_balanced = pd.concat([df_majority, df_minority_upsampled])\n",
    "df_balanced = df_balanced.sample(frac=1, random_state=42).reset_index(drop=True)\n",
    "\n",
    "print(\"\\nBalanced class counts:\\n\", df_balanced[\"label\"].value_counts())\n",
    "\n",
    "# =======================\n",
    "# 3. Train-Test Split\n",
    "# =======================\n",
    "X_train, X_test, y_train, y_test = train_test_split(\n",
    "    df_balanced[\"Text\"],\n",
    "    df_balanced[\"label\"],\n",
    "    test_size=0.2,\n",
    "    random_state=42,\n",
    "    stratify=df_balanced[\"label\"]\n",
    ")\n",
    "\n",
    "# =======================\n",
    "# 4. TF-IDF Vectorizer\n",
    "# =======================\n",
    "vectorizer = TfidfVectorizer(stop_words=\"english\", max_features=5000)\n",
    "X_train_vec = vectorizer.fit_transform(X_train)\n",
    "X_test_vec = vectorizer.transform(X_test)\n",
    "\n",
    "# =======================\n",
    "# 5. Train Logistic Regression\n",
    "# =======================\n",
    "model = LogisticRegression(max_iter=200)\n",
    "model.fit(X_train_vec, y_train)\n",
    "\n",
    "# =======================\n",
    "# 6. Predictions\n",
    "# =======================\n",
    "y_pred = model.predict(X_test_vec)\n",
    "\n",
    "# Test on custom comments\n",
    "new_comments = [\n",
    "    \"I hate this video\",\n",
    "    \"Great content, loved it!\",\n",
    "    \"This creator is stupid\",\n",
    "    \"Such an inspiring message, thank you!\"\n",
    "]\n",
    "new_vec = vectorizer.transform(new_comments)\n",
    "predictions = model.predict(new_vec)\n",
    "\n",
    "print(\"\\n--- Sample Predictions ---\")\n",
    "for text, label in zip(new_comments, predictions):\n",
    "    print(text, \"->\", \"Hate Speech\" if label == 1 else \"Non-Hate\")\n",
    "\n",
    "# =======================\n",
    "# 7. Evaluation\n",
    "# =======================\n",
    "print(\"\\nAccuracy:\", accuracy_score(y_test, y_pred))\n",
    "print(\"\\nClassification Report:\\n\",\n",
    "      classification_report(y_test, y_pred, labels=[0, 1],\n",
    "                            target_names=[\"Non-Hate\", \"Hate Speech\"]))\n",
    "\n",
    "# =======================\n",
    "# 8. Confusion Matrix\n",
    "# =======================\n",
    "cm = confusion_matrix(y_test, y_pred, labels=[0, 1])\n",
    "\n",
    "plt.figure(figsize=(6, 4))\n",
    "sns.heatmap(cm, annot=True, fmt=\"d\", cmap=\"Blues\",\n",
    "            xticklabels=[\"Non-Hate\", \"Hate Speech\"],\n",
    "            yticklabels=[\"Non-Hate\", \"Hate Speech\"])\n",
    "plt.xlabel(\"Predicted\")\n",
    "plt.ylabel(\"Actual\")\n",
    "plt.title(\"Confusion Matrix\")\n",
    "plt.show()\n",
    "\n"
   ]
  },
  {
   "cell_type": "code",
   "execution_count": 28,
   "id": "fe0eaf0f-f88b-4888-9287-8599e65eea6d",
   "metadata": {},
   "outputs": [
    {
     "name": "stdout",
     "output_type": "stream",
     "text": [
      "\n",
      "--- SVM ---\n",
      "Accuracy: 0.8101851851851852\n",
      "Classification Report:\n",
      "               precision    recall  f1-score   support\n",
      "\n",
      "    Non-Hate       0.83      0.78      0.80       108\n",
      " Hate Speech       0.79      0.84      0.82       108\n",
      "\n",
      "    accuracy                           0.81       216\n",
      "   macro avg       0.81      0.81      0.81       216\n",
      "weighted avg       0.81      0.81      0.81       216\n",
      "\n",
      "\n",
      "--- Sample Predictions (SVM) ---\n",
      "I hate this video -> Non-Hate\n",
      "Great content, loved it! -> Non-Hate\n",
      "This creator is stupid -> Hate Speech\n",
      "Such an inspiring message, thank you! -> Non-Hate\n"
     ]
    }
   ],
   "source": [
    "# Support Vector Machine Model\n",
    "# =======================\n",
    "svm_model = SVC(kernel=\"linear\")   # linear kernel works well for text\n",
    "svm_model.fit(X_train_vec, y_train)\n",
    "y_pred_svm = svm_model.predict(X_test_vec)\n",
    "\n",
    "print(\"\\n--- SVM ---\")\n",
    "print(\"Accuracy:\", accuracy_score(y_test, y_pred_svm))\n",
    "print(\"Classification Report:\\n\",\n",
    "      classification_report(y_test, y_pred_svm,\n",
    "                            target_names=[\"Non-Hate\", \"Hate Speech\"]))\n",
    "predictions_svm = svm_model.predict(new_vec)\n",
    "print(\"\\n--- Sample Predictions (SVM) ---\")\n",
    "for text, label in zip(new_comments, predictions_svm):\n",
    "    print(text, \"->\", \"Hate Speech\" if label == 1 else \"Non-Hate\")"
   ]
  },
  {
   "cell_type": "code",
   "execution_count": null,
   "id": "3b441be9-0b65-4aad-9152-88a7d14afd1a",
   "metadata": {},
   "outputs": [],
   "source": []
  }
 ],
 "metadata": {
  "kernelspec": {
   "display_name": "Python (ML Fix)",
   "language": "python",
   "name": "mlfix"
  },
  "language_info": {
   "codemirror_mode": {
    "name": "ipython",
    "version": 3
   },
   "file_extension": ".py",
   "mimetype": "text/x-python",
   "name": "python",
   "nbconvert_exporter": "python",
   "pygments_lexer": "ipython3",
   "version": "3.10.18"
  },
  "widgets": {
   "application/vnd.jupyter.widget-state+json": {
    "state": {},
    "version_major": 2,
    "version_minor": 0
   }
  }
 },
 "nbformat": 4,
 "nbformat_minor": 5
}
